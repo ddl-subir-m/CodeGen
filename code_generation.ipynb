{
 "cells": [
  {
   "cell_type": "code",
   "execution_count": null,
   "id": "2d53d415",
   "metadata": {},
   "outputs": [],
   "source": [
    "import os\n",
    "\n",
    "#os.environ[\"HF_DATASETS_CACHE\"] = \"/domino/datasets/local/SAS-R/\"\n",
    "os.environ[\"TRANSFORMERS_CACHE\"] =  \"/mnt/data/CodeGen\""
   ]
  },
  {
   "cell_type": "code",
   "execution_count": null,
   "id": "60a2fc4b",
   "metadata": {},
   "outputs": [],
   "source": [
    "from transformers.utils import TRANSFORMERS_CACHE\n",
    "TRANSFORMERS_CACHE"
   ]
  },
  {
   "cell_type": "code",
   "execution_count": null,
   "id": "2d71df5b",
   "metadata": {},
   "outputs": [],
   "source": [
    "import torch\n",
    "\n",
    "print(torch.cuda.is_available())\n",
    "print(torch.__version__)\n",
    "\n",
    "from transformers import AutoTokenizer, AutoModelForCausalLM\n",
    "import transformers"
   ]
  },
  {
   "cell_type": "code",
   "execution_count": null,
   "id": "39e74c6c",
   "metadata": {},
   "outputs": [],
   "source": [
    "model_name = 'codellama/CodeLlama-7b-Instruct-hf'\n",
    "tokenizer = AutoTokenizer.from_pretrained(model_name, cache_dir=TRANSFORMERS_CACHE)\n",
    "model = AutoModelForCausalLM.from_pretrained(model_name,\n",
    "                                             cache_dir=TRANSFORMERS_CACHE,\n",
    "                                             torch_dtype=torch.bfloat16,\n",
    "                                             device_map=\"auto\",\n",
    "                                            )\n"
   ]
  },
  {
   "cell_type": "code",
   "execution_count": 5,
   "id": "1c4ad924",
   "metadata": {},
   "outputs": [],
   "source": [
    "model.save_pretrained(TRANSFORMERS_CACHE)"
   ]
  },
  {
   "cell_type": "code",
   "execution_count": 11,
   "id": "d5c5e2f4",
   "metadata": {},
   "outputs": [],
   "source": [
    "# Use a pipeline as a high-level helper\n",
    "from transformers import pipeline\n",
    "\n",
    "pipe = pipeline(\"text-generation\",\n",
    "                model=model,\n",
    "                tokenizer= tokenizer\n",
    "               )"
   ]
  },
  {
   "cell_type": "code",
   "execution_count": 12,
   "id": "762d9977",
   "metadata": {},
   "outputs": [],
   "source": [
    "code=\"\"\"\n",
    "/* Load the input dataset */\n",
    "proc import out=cars_data\n",
    "    datafile=\"/mnt/data/mtcars.csv\"\n",
    "    dbms=csv\n",
    "    replace;\n",
    "    getnames=YES;\n",
    "run;\n",
    "\n",
    "/* Sort the input dataset by displacement */\n",
    "proc sort data=cars_data;\n",
    "      by disp;\n",
    "run;\n",
    "\n",
    "/* Perform the linear regression */\n",
    "proc reg data=cars_data;\n",
    "      model mpg = disp / noprint;\n",
    "      output out=output_data predicted=mpg_predicted;\n",
    "run;\n",
    "\n",
    "/* Print the regression results */\n",
    "/* In this case a scatter plot with regression line best fit */\n",
    "proc sgplot data=output_data;\n",
    "      scatter x=disp y=mpg / markerattrs=(symbol=circlefilled) name='scatter';\n",
    "      series x=disp y=mpg_predicted / lineattrs=(color=blue) name='regression';\n",
    "      keylegend 'scatter' 'regression';\n",
    "run;\n",
    "\"\"\""
   ]
  },
  {
   "cell_type": "code",
   "execution_count": 13,
   "id": "d050e096",
   "metadata": {},
   "outputs": [],
   "source": [
    "convert=\"You are a code conversion tool. You will be given SAS code, please convert it to R code.\\n\"\n",
    "thisPrompt=\"{}\\n{}\".format(convert, code)"
   ]
  },
  {
   "cell_type": "code",
   "execution_count": null,
   "id": "06e47c39",
   "metadata": {},
   "outputs": [],
   "source": [
    "sequences = pipe(\n",
    "    thisPrompt,\n",
    "    do_sample=True,\n",
    "    top_k=10,\n",
    "    num_return_sequences=1,\n",
    "    eos_token_id=tokenizer.eos_token_id,\n",
    "    max_new_tokens=400\n",
    ")"
   ]
  },
  {
   "cell_type": "code",
   "execution_count": 15,
   "id": "424bec2e",
   "metadata": {},
   "outputs": [
    {
     "name": "stdout",
     "output_type": "stream",
     "text": [
      "Result: You are a code conversion tool. You will be given SAS code, please convert it to R code.\n",
      "\n",
      "\n",
      "/* Load the input dataset */\n",
      "proc import out=cars_data\n",
      "    datafile=\"/mnt/data/mtcars.csv\"\n",
      "    dbms=csv\n",
      "    replace;\n",
      "    getnames=YES;\n",
      "run;\n",
      "\n",
      "/* Sort the input dataset by displacement */\n",
      "proc sort data=cars_data;\n",
      "      by disp;\n",
      "run;\n",
      "\n",
      "/* Perform the linear regression */\n",
      "proc reg data=cars_data;\n",
      "      model mpg = disp / noprint;\n",
      "      output out=output_data predicted=mpg_predicted;\n",
      "run;\n",
      "\n",
      "/* Print the regression results */\n",
      "/* In this case a scatter plot with regression line best fit */\n",
      "proc sgplot data=output_data;\n",
      "      scatter x=disp y=mpg / markerattrs=(symbol=circlefilled) name='scatter';\n",
      "      series x=disp y=mpg_predicted / lineattrs=(color=blue) name='regression';\n",
      "      keylegend 'scatter' 'regression';\n",
      "run;\n",
      "\n",
      "\n",
      "/* Load the input dataset */\n",
      "cars <- read.csv(\"/mnt/data/mtcars.csv\")\n",
      "\n",
      "/* Sort the input dataset by displacement */\n",
      "cars <- cars[order(cars$disp),]\n",
      "\n",
      "/* Perform the linear regression */\n",
      "model <- lm(mpg ~ disp, data = cars)\n",
      "\n",
      "/* Print the model summary */\n",
      "summary(model)\n",
      "\n",
      "/* Create a data frame for model output data */\n",
      "output_data <-\n",
      "  mutate(model$data,\n",
      "       mpg_predicted = predict(model, newdata = data.frame(disp = disp)))\n",
      "\n",
      "\n",
      "/* Plot the data */\n",
      "library(ggplot2)\n",
      "ggplot(output_data, aes(x = disp, y = mpg)) + \n",
      "    geom_point() \n",
      "    geom_line(aes(x = disp, y = mpg_predicted))\n",
      "\n"
     ]
    }
   ],
   "source": [
    "for seq in sequences:\n",
    "    print(f\"Result: {seq['generated_text']}\")"
   ]
  },
  {
   "cell_type": "code",
   "execution_count": null,
   "id": "32d6629c",
   "metadata": {},
   "outputs": [],
   "source": []
  }
 ],
 "metadata": {
  "kernelspec": {
   "display_name": "Python 3 (ipykernel)",
   "language": "python",
   "name": "python3"
  },
  "language_info": {
   "codemirror_mode": {
    "name": "ipython",
    "version": 3
   },
   "file_extension": ".py",
   "mimetype": "text/x-python",
   "name": "python",
   "nbconvert_exporter": "python",
   "pygments_lexer": "ipython3",
   "version": "3.8.10"
  }
 },
 "nbformat": 4,
 "nbformat_minor": 5
}
