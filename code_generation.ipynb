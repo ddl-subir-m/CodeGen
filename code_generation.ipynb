{
 "cells": [
  {
   "cell_type": "code",
   "execution_count": null,
   "id": "2c8f8b36",
   "metadata": {},
   "outputs": [],
   "source": [
    "import os\n",
    "import pprint\n",
    "\n",
    "os.environ[\"TRANSFORMERS_CACHE\"] =  \"/mnt/data/CodeLLM/\""
   ]
  },
  {
   "cell_type": "code",
   "execution_count": null,
   "id": "28b721d5",
   "metadata": {},
   "outputs": [],
   "source": [
    "from transformers.utils import TRANSFORMERS_CACHE\n",
    "TRANSFORMERS_CACHE"
   ]
  },
  {
   "cell_type": "code",
   "execution_count": null,
   "id": "d59ac04d",
   "metadata": {},
   "outputs": [],
   "source": [
    "import torch\n",
    "from transformers import AutoTokenizer, AutoModelForCausalLM, pipeline\n",
    "import transformers"
   ]
  },
  {
   "cell_type": "code",
   "execution_count": null,
   "id": "913faada",
   "metadata": {},
   "outputs": [],
   "source": [
    "def getcode(pipe, prompt, max_new_tokens=300):\n",
    "    \n",
    "    sequences = pipe(\n",
    "        prompt,\n",
    "        do_sample=True,\n",
    "        num_return_sequences=1,\n",
    "        eos_token_id=tokenizer.eos_token_id,\n",
    "        max_new_tokens=max_new_tokens,\n",
    "    )\n",
    "    for seq in sequences:\n",
    "        output_text = seq['generated_text']\n",
    "        output_text = output_text.replace(prompt,\"\")\n",
    "        print(output_text)\n",
    "    return output_text"
   ]
  },
  {
   "cell_type": "code",
   "execution_count": null,
   "id": "886c83ad",
   "metadata": {},
   "outputs": [],
   "source": [
    "model_name = 'codellama/CodeLlama-7b-Instruct-hf'\n",
    "tokenizer = AutoTokenizer.from_pretrained(model_name, cache_dir=TRANSFORMERS_CACHE)\n",
    "model = AutoModelForCausalLM.from_pretrained(model_name,\n",
    "                                             cache_dir=TRANSFORMERS_CACHE,\n",
    "                                             torch_dtype=torch.bfloat16,\n",
    "                                             device_map=\"auto\",\n",
    "                                            )\n"
   ]
  },
  {
   "cell_type": "code",
   "execution_count": null,
   "id": "aa00736d",
   "metadata": {},
   "outputs": [],
   "source": [
    "pipe = pipeline(\"text-generation\",\n",
    "                model=model,\n",
    "                tokenizer= tokenizer\n",
    "               )"
   ]
  },
  {
   "cell_type": "code",
   "execution_count": null,
   "id": "98c941b1",
   "metadata": {},
   "outputs": [],
   "source": [
    "code=\"\"\"\n",
    "/* Load the input dataset */\n",
    "proc import out=cars_data\n",
    "    datafile=\"/mnt/data/mtcars.csv\"\n",
    "    dbms=csv\n",
    "    replace;\n",
    "    getnames=YES;\n",
    "run;\n",
    "\n",
    "/* Sort the input dataset by displacement */\n",
    "proc sort data=cars_data;\n",
    "      by disp;\n",
    "run;\n",
    "\n",
    "/* Perform the linear regression */\n",
    "proc reg data=cars_data;\n",
    "      model mpg = disp / noprint;\n",
    "      output out=output_data predicted=mpg_predicted;\n",
    "run;\n",
    "\n",
    "/* Print the regression results */\n",
    "/* In this case a scatter plot with regression line best fit */\n",
    "proc sgplot data=output_data;\n",
    "      scatter x=disp y=mpg / markerattrs=(symbol=circlefilled) name='scatter';\n",
    "      series x=disp y=mpg_predicted / lineattrs=(color=blue) name='regression';\n",
    "      keylegend 'scatter' 'regression';\n",
    "run;\n",
    "\"\"\""
   ]
  },
  {
   "cell_type": "code",
   "execution_count": 58,
   "id": "8ba80cb9",
   "metadata": {},
   "outputs": [],
   "source": [
    "convert_prompt= \"You are a helpful polite code assistant.Please write R code using statistics and plotting libraries like ggplot2 that will reproduce the results of the SAS code that follows. \\n\"\n",
    "prompt=\"{}\\n{} ```r \".format(convert_prompt, code)"
   ]
  },
  {
   "cell_type": "code",
   "execution_count": 59,
   "id": "9e6d3767",
   "metadata": {},
   "outputs": [
    {
     "name": "stderr",
     "output_type": "stream",
     "text": [
      "Setting `pad_token_id` to `eos_token_id`:2 for open-end generation.\n"
     ]
    },
    {
     "name": "stdout",
     "output_type": "stream",
     "text": [
      "\n",
      "# Load the input dataset \n",
      "cars_data <- read.csv(\"/mnt/data/mtcars.csv\")\n",
      "\n",
      "# Sort the input dataset by displacement\n",
      "cars_data <- arrange(cars_data, desc(cars_data$disp))\n",
      "\n",
      "# Perform the linear regression \n",
      "fit <- lm(mpg~disp, data = cars_data)\n",
      "\n",
      "# Print the regression results\n",
      "# In this case a scatter plot with regression line best fit \n",
      "library(ggplot2)\n",
      "ggplot(data=cars_data, aes(x=disp, y=mpg)) + \n",
      "  geom_point() + \n",
      "  geom_smooth(method=lm, se=FALSE, method.args = list(formula = y ~ x))\n",
      "```\n",
      "\n"
     ]
    }
   ],
   "source": [
    "r_code = getcode(pipe, prompt, max_new_tokens=450)"
   ]
  },
  {
   "cell_type": "code",
   "execution_count": 78,
   "id": "0ae75c67",
   "metadata": {},
   "outputs": [],
   "source": [
    "generate_prompt= \"You are a helpful polite code assistant.Please write R code using statistics libraries for example stats and plotting libraries for example ggplot for the task that follows. \\n Task : \"\n",
    "task = \"Give me code to load data from a csv and perform linear regression once the data has been loaded\"\n",
    "prompt=\"{}\\n{} ```r\".format(generate_prompt, task)"
   ]
  },
  {
   "cell_type": "code",
   "execution_count": 79,
   "id": "522be057",
   "metadata": {},
   "outputs": [
    {
     "name": "stderr",
     "output_type": "stream",
     "text": [
      "Setting `pad_token_id` to `eos_token_id`:2 for open-end generation.\n"
     ]
    },
    {
     "name": "stdout",
     "output_type": "stream",
     "text": [
      "\n",
      "library(ggplot2)\n",
      "library(stats)\n",
      "ggplot(cps,aes(wages,workhrs))+\n",
      "geom_point()+\n",
      "geom_smooth(method=\"lm\",fullrange=F)\n",
      "```\n",
      "## Expected outcome: \n",
      "## Output in R studio as plotting wages vs workhrs and smoothline using LM method.\n",
      "## Any issues or doubts raise your issue in the comments\n"
     ]
    }
   ],
   "source": [
    "r_code = getcode(pipe, prompt, max_new_tokens=500)"
   ]
  },
  {
   "cell_type": "code",
   "execution_count": 80,
   "id": "7e54c9e8",
   "metadata": {},
   "outputs": [],
   "source": [
    "generate_prompt= \"You are a helpful polite code assistant.Please write Python code using statistics libraries for example scipy and plotting libraries for example matplotlib for the task that follows. \\n Task : \"\n",
    "task = \"Give me code to load data from a csv and perform linear regression once the data has been loaded\"\n",
    "prompt=\"{}\\n{} ```python\".format(generate_prompt, task)"
   ]
  },
  {
   "cell_type": "code",
   "execution_count": 84,
   "id": "6ca27f60",
   "metadata": {},
   "outputs": [
    {
     "name": "stderr",
     "output_type": "stream",
     "text": [
      "Setting `pad_token_id` to `eos_token_id`:2 for open-end generation.\n"
     ]
    },
    {
     "name": "stdout",
     "output_type": "stream",
     "text": [
      "\n",
      "\n",
      "\n",
      "#Import data\n",
      "data = pd.read_csv('data.csv')\n",
      "print(data)\n",
      "\n",
      "#print a summary of data \n",
      "print(data.describe())\n",
      "\n",
      "print(data.info())\n",
      "\n",
      "#print a sample of data\n",
      "print(data.head())\n",
      "\n",
      "#print data of particular column\n",
      "print(data['col1']) \n",
      "\n",
      "\n",
      "#Import statistical library and data\n",
      "from scipy import stats\n",
      "from matplotlib import pyplot as plt\n",
      "import numpy as np\n",
      "\n",
      "#Data Loading and Visualization\n",
      "data = pd.read_csv('data.csv')\n",
      "\n",
      "#Visualization\n",
      "plt.figure(figsize=(15,8))\n",
      "\n",
      "sns.heatmap(data.corr(), annot=True, cmap=\"YlGn\")\n",
      "plt.show()\n",
      "\n",
      "plt.figure(figsize=(15,8))\n",
      "\n",
      "sns.catplot(x=\"col2\",y=\"col1\",kind=\"count\",data=data)\n",
      "plt.show()\n",
      "\n",
      "plt.figure(figsize=(15,8))\n",
      "\n",
      "\n",
      "sns.regplot(x=\"col3\", y=\"col2\",data=data, x_estimator=np.mean, y_estimator=np.mean)  \n",
      "plt.show()\n",
      "\n",
      "  \n"
     ]
    }
   ],
   "source": [
    "python_code = getcode(pipe, prompt, max_new_tokens=350)"
   ]
  },
  {
   "cell_type": "code",
   "execution_count": null,
   "id": "2c411632",
   "metadata": {},
   "outputs": [],
   "source": []
  }
 ],
 "metadata": {
  "kernelspec": {
   "display_name": "Python 3 (ipykernel)",
   "language": "python",
   "name": "python3"
  },
  "language_info": {
   "codemirror_mode": {
    "name": "ipython",
    "version": 3
   },
   "file_extension": ".py",
   "mimetype": "text/x-python",
   "name": "python",
   "nbconvert_exporter": "python",
   "pygments_lexer": "ipython3",
   "version": "3.8.10"
  }
 },
 "nbformat": 4,
 "nbformat_minor": 5
}
