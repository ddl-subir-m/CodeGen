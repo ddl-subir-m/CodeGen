{
 "cells": [
  {
   "cell_type": "code",
   "execution_count": 88,
   "id": "a0f95bf6",
   "metadata": {},
   "outputs": [],
   "source": [
    "import os\n",
    "import pprint\n",
    "\n",
    "os.environ[\"TRANSFORMERS_CACHE\"] =  \"/mnt/data/CodeGen\""
   ]
  },
  {
   "cell_type": "code",
   "execution_count": 9,
   "id": "d5ed1e10",
   "metadata": {},
   "outputs": [
    {
     "name": "stderr",
     "output_type": "stream",
     "text": [
      "/usr/local/lib/python3.8/dist-packages/tqdm/auto.py:22: TqdmWarning: IProgress not found. Please update jupyter and ipywidgets. See https://ipywidgets.readthedocs.io/en/stable/user_install.html\n",
      "  from .autonotebook import tqdm as notebook_tqdm\n"
     ]
    },
    {
     "data": {
      "text/plain": [
       "'/mnt/data/CodeGen'"
      ]
     },
     "execution_count": 9,
     "metadata": {},
     "output_type": "execute_result"
    }
   ],
   "source": [
    "from transformers.utils import TRANSFORMERS_CACHE\n",
    "TRANSFORMERS_CACHE"
   ]
  },
  {
   "cell_type": "code",
   "execution_count": 10,
   "id": "25507c65",
   "metadata": {},
   "outputs": [
    {
     "name": "stdout",
     "output_type": "stream",
     "text": [
      "True\n",
      "2.0.1+cu118\n"
     ]
    }
   ],
   "source": [
    "import torch\n",
    "from transformers import AutoTokenizer, AutoModelForCausalLM, pipeline\n",
    "import transformers"
   ]
  },
  {
   "cell_type": "code",
   "execution_count": 95,
   "id": "8a4cb1e7",
   "metadata": {},
   "outputs": [],
   "source": [
    "def getcode(pipe, prompt):\n",
    "    \n",
    "    sequences = pipe(\n",
    "        prompt,\n",
    "        do_sample=True,\n",
    "        num_return_sequences=1,\n",
    "        eos_token_id=tokenizer.eos_token_id,\n",
    "        max_new_tokens=300,\n",
    "    )\n",
    "    for seq in sequences:\n",
    "        output_text = seq['generated_text']\n",
    "        output_text = output_text.replace(prompt,\"\")\n",
    "        print(output_text)\n",
    "    return output_text"
   ]
  },
  {
   "cell_type": "code",
   "execution_count": 11,
   "id": "9d05c5c9",
   "metadata": {},
   "outputs": [
    {
     "name": "stderr",
     "output_type": "stream",
     "text": [
      "Loading checkpoint shards: 100%|██████████| 2/2 [00:44<00:00, 22.07s/it]\n"
     ]
    }
   ],
   "source": [
    "model_name = 'codellama/CodeLlama-7b-Instruct-hf'\n",
    "tokenizer = AutoTokenizer.from_pretrained(model_name, cache_dir=TRANSFORMERS_CACHE)\n",
    "model = AutoModelForCausalLM.from_pretrained(model_name,\n",
    "                                             cache_dir=TRANSFORMERS_CACHE,\n",
    "                                             torch_dtype=torch.bfloat16,\n",
    "                                             device_map=\"auto\",\n",
    "                                            )\n"
   ]
  },
  {
   "cell_type": "code",
   "execution_count": 12,
   "id": "714f7a36",
   "metadata": {},
   "outputs": [],
   "source": [
    "pipe = pipeline(\"text-generation\",\n",
    "                model=model,\n",
    "                tokenizer= tokenizer\n",
    "               )"
   ]
  },
  {
   "cell_type": "code",
   "execution_count": 13,
   "id": "0602292e",
   "metadata": {},
   "outputs": [],
   "source": [
    "code=\"\"\"\n",
    "/* Load the input dataset */\n",
    "proc import out=cars_data\n",
    "    datafile=\"/mnt/data/mtcars.csv\"\n",
    "    dbms=csv\n",
    "    replace;\n",
    "    getnames=YES;\n",
    "run;\n",
    "\n",
    "/* Sort the input dataset by displacement */\n",
    "proc sort data=cars_data;\n",
    "      by disp;\n",
    "run;\n",
    "\n",
    "/* Perform the linear regression */\n",
    "proc reg data=cars_data;\n",
    "      model mpg = disp / noprint;\n",
    "      output out=output_data predicted=mpg_predicted;\n",
    "run;\n",
    "\n",
    "/* Print the regression results */\n",
    "/* In this case a scatter plot with regression line best fit */\n",
    "proc sgplot data=output_data;\n",
    "      scatter x=disp y=mpg / markerattrs=(symbol=circlefilled) name='scatter';\n",
    "      series x=disp y=mpg_predicted / lineattrs=(color=blue) name='regression';\n",
    "      keylegend 'scatter' 'regression';\n",
    "run;\n",
    "\"\"\""
   ]
  },
  {
   "cell_type": "code",
   "execution_count": 91,
   "id": "7b2a8211",
   "metadata": {},
   "outputs": [],
   "source": [
    "convert_prompt= \"You are a helpful polite code assistant.Please write R code using statistics and plotting libraries that will reproduce the results of the SAS code that follows. \\n\"\n",
    "prompt=\"{}\\n{} ```r \".format(convert_prompt, code)"
   ]
  },
  {
   "cell_type": "code",
   "execution_count": 96,
   "id": "c7431ace",
   "metadata": {},
   "outputs": [
    {
     "name": "stderr",
     "output_type": "stream",
     "text": [
      "Setting `pad_token_id` to `eos_token_id`:2 for open-end generation.\n"
     ]
    },
    {
     "name": "stdout",
     "output_type": "stream",
     "text": [
      "\n",
      " # Load the input dataset\n",
      "cars_data <- read.csv('mtcars.csv')\n",
      "\n",
      "# Sort the input dataset by displacement\n",
      "cars_data <- cars_data[order(cars_data$disp ), ]\n",
      "\n",
      "# Perform the linear regression\n",
      "cars_model <- lm(mpg ~ disp, cars_data)\n",
      "summary(cars_model)\n",
      "\n",
      "# Print the regression results\n",
      "# In this case a scatter plot with regression line best fit\n",
      "ggplot(data = cars_data, mapping = aes(x = disp, y = mpg)) + \n",
      "  geom_point(aes(color=\"observed\"), size=2) +\n",
      "  geom_line(aes(color=\"predicted\"), lty=\"dashed\") + \n",
      "  xlab(paste(\"Car Cylinders\")) + \n",
      "  ylab(paste(\"Miles per gallon\")) + \n",
      "  ggtitle(paste(\"Car Mpg vs Engine Cylinders\")) + \n",
      "  scale_color_discrete(name = \"Engine Cylinders\")\n",
      "``` \n",
      "\n",
      "***HINTS (if needed):***\n",
      "\n",
      "The input dataset contains the following variables:\n",
      "\n",
      "* Cylinders: The number of cylinders.\n",
      "* Displacement: The size in cubic inches.\n",
      "* Horsepower: The engine horse\n"
     ]
    }
   ],
   "source": [
    "r_code = getcode(pipe, prompt)"
   ]
  },
  {
   "cell_type": "code",
   "execution_count": 102,
   "id": "99d66283",
   "metadata": {},
   "outputs": [],
   "source": [
    "generate_prompt= \"You are a helpful polite code assistant.Please write R code using statistics libraries for example stats and plotting libraries for example ggplot for the task that follows. Output the result in markdown \\n Task : \"\n",
    "task = \"Give me code to load data from a csv and perform linear regression once the data has been loaded\"\n",
    "prompt=\"{}\\n{} ```r \".format(generate_prompt, task)"
   ]
  },
  {
   "cell_type": "code",
   "execution_count": 105,
   "id": "91f7ad03",
   "metadata": {},
   "outputs": [
    {
     "name": "stderr",
     "output_type": "stream",
     "text": [
      "Setting `pad_token_id` to `eos_token_id`:2 for open-end generation.\n"
     ]
    },
    {
     "name": "stdout",
     "output_type": "stream",
     "text": [
      "\n",
      "data = data.frame(read.csv(\"data.csv\"))\n",
      "``` \n",
      " \n",
      "- Linear regression using built-in stats ```r \n",
      "library(stats)\n",
      "slope = coeff(lm(X1 ~ X2,data))\n",
      "``` \n",
      " \n",
      "- Linear regression using ggplot2 ```r \n",
      "library(ggplot2)\n",
      "p = ggplot() + geom_point(aes(x = X1, y = X2, color = \"point\"), data) + \n",
      "geom_smooth(aes(x = X1, y = X2), data, method = \"lm\") + \n",
      "labs(x = \"X1\", y = \"X2\", color = \"data\")``` \n",
      " \n",
      "-  Linear regression using glm ```r\n",
      "library(glmnet)\n",
      "X = data[,c(2,3)]\n",
      "y = data$X3\n",
      "model = cv.glmnet(X, y, type.measure = \"mse\")\n",
      "s = predict(model, type = \"coefficients\")\n",
      "``` \n",
      " \n",
      "- Feature scaling using built-in scale ```r \n",
      "scaleddata = scale(data, scale = c(10,10,0.01))\n",
      "``` \n",
      " \n",
      "- Feature scaling using preprocessing package ```r \n",
      "library(preprocess)\n",
      "scaled\n"
     ]
    }
   ],
   "source": [
    "r_code = getcode(pipe, prompt)"
   ]
  },
  {
   "cell_type": "code",
   "execution_count": null,
   "id": "2a29f493",
   "metadata": {},
   "outputs": [],
   "source": []
  }
 ],
 "metadata": {
  "kernelspec": {
   "display_name": "Python 3 (ipykernel)",
   "language": "python",
   "name": "python3"
  },
  "language_info": {
   "codemirror_mode": {
    "name": "ipython",
    "version": 3
   },
   "file_extension": ".py",
   "mimetype": "text/x-python",
   "name": "python",
   "nbconvert_exporter": "python",
   "pygments_lexer": "ipython3",
   "version": "3.8.10"
  }
 },
 "nbformat": 4,
 "nbformat_minor": 5
}
